{
 "cells": [
  {
   "cell_type": "markdown",
   "id": "4e4b66c5",
   "metadata": {
    "vscode": {
     "languageId": "plaintext"
    }
   },
   "source": [
    "# Solution for Homework 2"
   ]
  },
  {
   "cell_type": "markdown",
   "id": "0e442987",
   "metadata": {},
   "source": [
    "## Part 1: Define Dimensions & Generate Initial Queries"
   ]
  },
  {
   "cell_type": "markdown",
   "id": "068b5031",
   "metadata": {},
   "source": [
    "#### Question 1  \n",
    "\n",
    "**Identify Key Dimensions:** (i.e., key aspects or variables of user inputs you'll use to generate diverse test queries, such as `cuisine_type`, `dietary_restriction`, or `meal_type` for your recipe bot)\n",
    "    *   Identify 3-4 key dimensions relevant to your Recipe Bot's functionality and potential user inputs.\n",
    "    *   For each dimension, list at least 3 example values."
   ]
  },
  {
   "cell_type": "markdown",
   "id": "669cfd4e",
   "metadata": {},
   "source": [
    "#### Answer 1\n",
    "\n",
    "Some key dimensions for the recipe chatbot specific for athletes could be:\n",
    "- **training phase**- what exercise they're doing on that day or what phase they're in within a training block could determine the macro content\n",
    "- **dietary requirements** - this would determine which ingredients to exclude based on if the user has any intolerances\n",
    "- **which meal of the day it is** - breakfast, lunch, dinner, snack etc. "
   ]
  },
  {
   "cell_type": "markdown",
   "id": "0e144054",
   "metadata": {},
   "source": [
    "--- "
   ]
  },
  {
   "cell_type": "markdown",
   "id": "18d7cf49",
   "metadata": {},
   "source": [
    "#### Question 2\n",
    "\n",
    "Generate Unique Combinations (Tuples):\n",
    "\n",
    "Write a prompt for a Large Language Model (LLM) to generate 15-20 unique combinations (tuples) of these dimension values."
   ]
  },
  {
   "cell_type": "markdown",
   "id": "cad7a38b",
   "metadata": {},
   "source": [
    "#### Answer 2\n",
    "\n",
    "Generate 20 tuples of unique combinations of the following dimensions. There are some examples for each dimension. These are only intended as examples. Ensure a diverse range of value for each dimension when generating the tuples :\n",
    "\n",
    "- Training phase - for example (doing a 10km later on, going to the gym for a strength session afterwards, recovering from a marathon)\n",
    "- Dietary requirements - for example, gluten intolerant, vegan, don't eat beef\n",
    "- Which meal of the day it is - breakfast, lunch, dinner, snack "
   ]
  },
  {
   "cell_type": "markdown",
   "id": "ae9426b8",
   "metadata": {},
   "source": [
    "#### Response from LLM\n",
    "\n",
    "| # | Training Phase | Dietary Requirements | Meal of the Day |\n",
    "|---|----------------|----------------------|-----------------|\n",
    "| 1 | Doing a 10km later on | Vegan | Breakfast |\n",
    "| 2 | Going to the gym for a strength session afterwards | Gluten intolerant | Lunch |\n",
    "| 3 | Recovering from a marathon | Vegetarian | Dinner |\n",
    "| 4 | Long cycle ride planned in the afternoon | Pescatarian | Snack |\n",
    "| 5 | Early morning swim session completed | No dairy | Breakfast |\n",
    "| 6 | Double training day (track AM, gym PM) | Don’t eat beef | Lunch |\n",
    "| 7 | Rest day before ultra marathon | Vegan | Dinner |\n",
    "| 8 | Hill sprints session later | No added sugar | Snack |\n",
    "| 9 | Coming back from injury | Gluten intolerant | Breakfast |\n",
    "| 10 | Light recovery jog later | Vegetarian | Lunch |\n",
    "| 11 | Heavy leg day in the gym earlier | Pescatarian | Dinner |\n",
    "| 12 | Brick session (cycle + run) later | No dairy | Snack |\n",
    "| 13 | Recovery week after a race | Don’t eat pork | Breakfast |\n",
    "| 14 | High-volume training week | Vegan | Lunch |\n",
    "| 15 | Speed interval session planned | Gluten intolerant | Dinner |\n",
    "| 16 | Hiking day in the mountains | Vegetarian | Snack |\n",
    "| 17 | Easy taper run planned | No dairy | Breakfast |\n",
    "| 18 | Strength + conditioning class earlier | Pescatarian | Lunch |\n",
    "| 19 | Early morning yoga before work | Don’t eat beef | Dinner |\n",
    "| 20 | Open water swim later | No added sugar | Breakfast |\n",
    "\n",
    "---"
   ]
  },
  {
   "cell_type": "markdown",
   "id": "c2493cdd",
   "metadata": {},
   "source": [
    "#### Question 3 \n",
    "\n",
    "Write a second prompt for an LLM to take 5-7 of the generated tuples and create a natural language user query for your Recipe Bot for each selected tuple.\n",
    "Review these generated queries to ensure they are realistic and representative of how a user might interact with your bot."
   ]
  },
  {
   "cell_type": "markdown",
   "id": "4385135c",
   "metadata": {},
   "source": [
    "#### Answer 3\n",
    "\n",
    "From a random 5 tuples, create a query in natural language from the perspecitve of an athlete that will be entered into a a recipe chatbot. I only want the user query for each tuple"
   ]
  },
  {
   "cell_type": "markdown",
   "id": "60d0b14e",
   "metadata": {},
   "source": [
    "1. \"I’ve got a 10km run later this morning and I’m vegan. Can you suggest a high-energy breakfast that’s easy to digest?\"  \n",
    "2. \"I’m doing a double training day with track in the morning and gym in the afternoon. I don’t eat beef — what’s a good balanced lunch to keep me fuelled?\"  \n",
    "3. \"I had a heavy leg day in the gym earlier and I’m pescatarian. What’s a protein-rich dinner to help me recover?\"  \n",
    "4. \"I’m tapering for a race and just have an easy run planned. I can’t have dairy — what’s a good breakfast that’s light but still filling?\"  \n",
    "5. \"I’ve got a long cycle ride planned in the afternoon and I’m pescatarian. What’s a healthy snack I can prep ahead to take with me?\"  \n"
   ]
  },
  {
   "cell_type": "markdown",
   "id": "207e045c",
   "metadata": {},
   "source": [
    "---"
   ]
  },
  {
   "cell_type": "markdown",
   "id": "e3ee5975",
   "metadata": {},
   "source": [
    "## Part 2: Initial Error Analysis (Ref Sec 3.2, 3.3, 3.4 of relevant course material)\n"
   ]
  },
  {
   "cell_type": "markdown",
   "id": "be0397c9",
   "metadata": {},
   "source": [
    "#### Question 1\n",
    "\n",
    "Run Bot on Synthetic Queries:\n",
    "\n",
    "Execute your Recipe Bot using the synthetic queries generated in Part 1.\n",
    "Record the full interaction traces for each query."
   ]
  },
  {
   "cell_type": "markdown",
   "id": "c1b6eccb",
   "metadata": {},
   "source": [
    "# Open Coding"
   ]
  },
  {
   "cell_type": "markdown",
   "id": "75675f5f",
   "metadata": {},
   "source": [
    "Trace 1 - `trace_20250809_133721_392519.json`"
   ]
  },
  {
   "cell_type": "markdown",
   "id": "6c29cd3e",
   "metadata": {},
   "source": [
    "Query - I've got a 10km run later this morning and I'm vegan. Can you suggest a high-energy breakfast that's easy to digest?"
   ]
  },
  {
   "cell_type": "markdown",
   "id": "6f1cb533",
   "metadata": {},
   "source": [
    "## Vegan High-Energy Breakfast for a 10km Run\n",
    "\n",
    "### Ingredients\n",
    "- 1/2 cup rolled oats (40g)\n",
    "- 1 tablespoon chia seeds (10g)\n",
    "- 1 tablespoon maple syrup (15ml)\n",
    "- 1 ripe banana, mashed (100g)\n",
    "- 1/2 cup unsweetened almond milk (120ml)\n",
    "- 1/4 cup blueberries (37g)\n",
    "- 1 tablespoon almond butter (16g)\n",
    "\n",
    "### Instructions\n",
    "1. In a bowl, combine the rolled oats, chia seeds, and almond milk. Stir well and let it sit for 5-10 minutes until the chia seeds soften.\n",
    "2. Add the mashed banana and maple syrup to the oat mixture. Mix thoroughly to combine.\n",
    "3. Top with blueberries and a dollop of almond butter.\n",
    "4. Enjoy immediately for a light, energy-rich, and easily digestible breakfast before your run.\n",
    "\n",
    "### Nutritional Information (approximate)\n",
    "- **Protein:** 8g\n",
    "- **Carbohydrates:** 60g\n",
    "- **Fat:** 15g\n",
    "- **Calories:** 350 kcal\n",
    "\n",
    "### Nutritional Notes\n",
    "This breakfast provides a balance of complex carbs and healthy fats, giving you sustainable energy for your run. The banana offers quick-digesting carbs and potassium to support muscle function, while chia seeds and almond butter supply healthy fats and fiber to keep you satiated. The light and plant-based ingredients are easy to digest, helping you perform optimally.\n",
    "\n",
    "### Source\n",
    "Customized recipe based on general sports nutrition guidelines for endurance athletes and vegan dietary considerations."
   ]
  },
  {
   "cell_type": "markdown",
   "id": "f3e4dab3",
   "metadata": {},
   "source": [
    "Annotation - source isn't very helpful. Isn't sighting any reference material. "
   ]
  },
  {
   "cell_type": "markdown",
   "id": "fe7c9265",
   "metadata": {},
   "source": [
    "---"
   ]
  },
  {
   "cell_type": "markdown",
   "id": "cf9c3531",
   "metadata": {},
   "source": [
    "Trace 2 `trace_20250809_133802_031945.json`"
   ]
  },
  {
   "cell_type": "markdown",
   "id": "9e9ea5f0",
   "metadata": {},
   "source": [
    "I'm doing a double training day with track in the morning and gym in the afternoon. I don't eat beef - what's a good balanced lunch to keep me fuelled?"
   ]
  },
  {
   "cell_type": "markdown",
   "id": "710d3fe6",
   "metadata": {},
   "source": [
    "## Quinoa & Grilled Chicken Power Bowl\n",
    "\n",
    "### Ingredients:\n",
    "- 1/2 cup (90g) cooked quinoa\n",
    "- 150g grilled chicken breast\n",
    "- 1/2 avocado, sliced\n",
    "- 1 cup (150g) roasted or steamed broccoli\n",
    "- 1 medium carrot, grated\n",
    "- 1 tablespoon olive oil\n",
    "- Juice of 1/2 lemon\n",
    "- Salt and pepper to taste\n",
    "- Optional: a sprinkle of chia seeds or pumpkin seeds for added crunch and omega-3s\n",
    "\n",
    "### Instructions:\n",
    "1. Cook the quinoa according to package instructions and let it cool slightly.\n",
    "2. Season the chicken breast with salt, pepper, and a little olive oil; grill until cooked through (~6\\u20138 minutes per side). Let it rest, then slice.\n",
    "3. Toss the cooked quinoa with lemon juice, a teaspoon of olive oil, salt, and pepper.\n",
    "4. In a bowl, layer the quinoa, sliced chicken, broccoli, grated carrot, and avocado slices.\n",
    "5. Top with seeds if using. Drizzle with a little extra olive oil or lemon juice if desired.\n",
    "6. Serve immediately or pack for a balanced, energy-boosting lunch.\n",
    "\n",
    "### Nutritional Information (approximate):\n",
    "- Protein: 35g\n",
    "- Carbohydrates: 45g\n",
    "- Fat: 15g\n",
    "- Calories: 480 kcal\n",
    "\n",
    "### Nutritional notes:\n",
    "This meal provides a solid balance of protein, complex carbs, and healthy fats, crucial for muscle recovery and sustained energy during your double training day. The lean chicken supports muscle repair, quinoa offers sustained-release carbs, and healthy fats from avocado and olive oil aid in inflammation reduction and joint health.\n",
    "\n",
    "### Source:\n",
    "Adapted from sports nutrition guidelines focusing on plant-based and lean animal protein sources for sustained energy and recovery."
   ]
  },
  {
   "cell_type": "markdown",
   "id": "dc37fbd5",
   "metadata": {},
   "source": [
    "Annotation - assuming some of food is already cooked. User might not know how to steam brocoli or grill a chicken breast. Source not very useful either"
   ]
  },
  {
   "cell_type": "markdown",
   "id": "500d724b",
   "metadata": {},
   "source": [
    "---"
   ]
  },
  {
   "cell_type": "markdown",
   "id": "a41cf68c",
   "metadata": {},
   "source": [
    "### Trace 3 - trace_20250809_133824_858339.json"
   ]
  },
  {
   "cell_type": "markdown",
   "id": "8d6dda1b",
   "metadata": {},
   "source": [
    "I had a heavy leg day in the gym earlier and I'm pescatarian. What's a protein-rich dinner to help me recover?"
   ]
  },
  {
   "cell_type": "markdown",
   "id": "356c8952",
   "metadata": {},
   "source": [
    "## Grilled Salmon and Quinoa Salad\n",
    "\n",
    "### Ingredients\n",
    "- 150g salmon fillet\n",
    "- 1/2 cup (90g) cooked quinoa\n",
    "- 1 cup fresh spinach leaves\n",
    "- 1/4 cup cherry tomatoes, halved\n",
    "- 1/4 cucumber, sliced\n",
    "- 1 tablespoon olive oil\n",
    "- 1 teaspoon lemon juice\n",
    "- Salt and pepper to taste\n",
    "- Fresh dill (optional, for garnish)\n",
    "\n",
    "### Instructions\n",
    "1. Preheat your grill or grill pan over medium-high heat.\n",
    "2. Season the salmon fillet with salt, pepper, and a drizzle of olive oil.\n",
    "3. Grill the salmon for about 4-5 minutes per side until fully cooked and flaky.\n",
    "4. While the salmon is cooking, prepare the quinoa according to package instructions and let it cool slightly.\n",
    "5. In a bowl, combine the cooked quinoa, spinach, cherry tomatoes, and cucumber.\n",
    "6. Drizzle with lemon juice and the remaining olive oil, then toss gently to combine.\n",
    "7. Serve the grilled salmon atop the quinoa salad, garnish with fresh dill if desired.\n",
    "\n",
    "### Nutritional Information (approximate)\n",
    "- **Protein:** 42g  \n",
    "- **Carbohydrates:** 40g  \n",
    "- **Fat:** 20g  \n",
    "- **Calories:** 520 kcal\n",
    "\n",
    "### Nutritional notes\n",
    "This meal provides a high-quality source of protein from the salmon, essential for muscle repair after heavy workouts. Quinoa offers complex carbs to replenish glycogen stores, while healthy fats from olive oil aid in recovery and reducing inflammation. The vegetables add micronutrients and antioxidants that support overall recovery and immune health.\n",
    "\n",
    "### Source\n",
    "Adapted from sports nutrition principles and common recipe guidelines for recovery meals tailored to pescatarians."
   ]
  },
  {
   "cell_type": "markdown",
   "id": "a3e4dbd0",
   "metadata": {},
   "source": [
    "Annotation - source not very helpful again. User might buy quinoa without instructions of how to cook. Making assumptions based on some of the ingredients"
   ]
  },
  {
   "cell_type": "markdown",
   "id": "c8918f15",
   "metadata": {},
   "source": [
    "---"
   ]
  },
  {
   "cell_type": "markdown",
   "id": "813277c2",
   "metadata": {},
   "source": [
    "#### Trace 4 `trace_20250809_133915_966756.json`"
   ]
  },
  {
   "cell_type": "markdown",
   "id": "9fb3789e",
   "metadata": {},
   "source": [
    "I've got a long cycle ride planned in the afternoon and I'm pescatarian. What's a healthy snack I can prep ahead to take with me"
   ]
  },
  {
   "cell_type": "markdown",
   "id": "836bc57a",
   "metadata": {},
   "source": [
    "## Tuna & Chickpea Power Bouch\\u00e9e\n",
    "\n",
    "### Ingredients\n",
    "- 1/2 cup canned tuna (in water), drained\n",
    "- 1/2 cup canned chickpeas, rinsed and drained\n",
    "- 1 tablespoon olive oil\n",
    "- 1 teaspoon lemon juice\n",
    "- 1 teaspoon Dijon mustard\n",
    "- 1/4 teaspoon black pepper\n",
    "- 1 tablespoon chopped fresh parsley\n",
    "- 1 small whole grain pita or 2 rice cakes (for serving)\n",
    "- Optional: a few cherry tomatoes or cucumber slices for added freshness\n",
    "\n",
    "### Instructions\n",
    "1. In a mixing bowl, mash the chickpeas with a fork until slightly chunky.\n",
    "2. Add the drained tuna to the chickpeas and mix well.\n",
    "3. Stir in olive oil, lemon juice, Dijon mustard, black pepper, and parsley until fully combined.\n",
    "4. Divide the mixture into small portions and shape into mini patties or scoops.\n",
    "5. Pack the patties in an airtight container along with the pita or rice cakes.\n",
    "6. Include cherry tomatoes or cucumber slices for refreshing sides if you like.\n",
    "\n",
    "### Nutritional Information (approximate per serving)\n",
    "- **Protein:** 20g\n",
    "- **Carbohydrates:** 35g\n",
    "- **Fat:** 8g\n",
    "- **Calories:** 290\n",
    "\n",
    "### Nutritional notes\n",
    "This snack provides high-quality protein from tuna and chickpeas, essential for muscle repair and sustained energy during long rides. The healthy fats from olive oil support joint health and keep you satiated. The complex carbs from whole grain pitas or rice cakes supply steady energy, making this an ideal pre-ride snack to boost endurance.\n",
    "\n",
    "### Source\n",
    "Adapted from pescatarian-friendly energy snack recipes tailored for endurance athletes."
   ]
  },
  {
   "cell_type": "markdown",
   "id": "4f48e94a",
   "metadata": {},
   "source": [
    "Annotation - taking fish on a long cycle is a bit rogue. Maybe the LLM is suggesting fish just because the user is pescatarian. None fish dishes would probably be fine too. Again source isn't very useful"
   ]
  },
  {
   "cell_type": "markdown",
   "id": "faf53001",
   "metadata": {},
   "source": [
    "--- "
   ]
  },
  {
   "cell_type": "markdown",
   "id": "ca71c7d4",
   "metadata": {},
   "source": [
    "# Axial Coding"
   ]
  },
  {
   "cell_type": "markdown",
   "id": "a57b64e7",
   "metadata": {},
   "source": [
    "### Failure Modes"
   ]
  },
  {
   "cell_type": "markdown",
   "id": "59116c03",
   "metadata": {},
   "source": [
    "1. Vague Source - the source of the recipe is vague and not adding much value. Examples:\n",
    "- \"Adapted from pescatarian-friendly energy snack recipes tailored for endurance athletes.\"\n",
    "- Adapted from sports nutrition principles and common recipe guidelines for recovery meals tailored to pescatarians."
   ]
  },
  {
   "cell_type": "markdown",
   "id": "488d7449",
   "metadata": {},
   "source": [
    "2. Recipe not practical - for trace 4 - the recipe involves some sort of tuna salad for a long cycle ride. This is not super practical"
   ]
  },
  {
   "cell_type": "markdown",
   "id": "ba2c78fb",
   "metadata": {},
   "source": [
    "3. Bias towards dietary requirements - for trace 4, the user specifies they're a pescatarian. However, it does not mean that every dish needs to have fish in it"
   ]
  },
  {
   "cell_type": "markdown",
   "id": "110223c5",
   "metadata": {},
   "source": []
  }
 ],
 "metadata": {
  "kernelspec": {
   "display_name": ".venv",
   "language": "python",
   "name": "python3"
  },
  "language_info": {
   "name": "python",
   "version": "3.10.4"
  }
 },
 "nbformat": 4,
 "nbformat_minor": 5
}
